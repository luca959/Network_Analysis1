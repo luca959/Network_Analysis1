{
 "cells": [
  {
   "attachments": {},
   "cell_type": "markdown",
   "metadata": {},
   "source": [
    "# Import Lib"
   ]
  },
  {
   "cell_type": "code",
   "execution_count": null,
   "metadata": {},
   "outputs": [],
   "source": [
    "%matplotlib inline\n",
    "import pandas as pd\n",
    "import numpy as np\n",
    "import networkx as nx\n",
    "import matplotlib.pyplot as plt\n",
    "from random import randint\n",
    "from scipy.io import mmread\n",
    "from community import community_louvain"
   ]
  },
  {
   "attachments": {},
   "cell_type": "markdown",
   "metadata": {},
   "source": [
    "# Import Graph"
   ]
  },
  {
   "cell_type": "code",
   "execution_count": null,
   "metadata": {},
   "outputs": [],
   "source": [
    "\n",
    "read_file = mmread('power-bcspwr10.mtx')\n",
    "G = nx.Graph(read_file)"
   ]
  },
  {
   "attachments": {},
   "cell_type": "markdown",
   "metadata": {},
   "source": [
    "Try new visualization"
   ]
  },
  {
   "cell_type": "code",
   "execution_count": null,
   "metadata": {},
   "outputs": [],
   "source": [
    "# Setting position of nodes for multiple visualizations\n",
    "pos = nx.spring_layout(G, iterations=500) # Change iterations on slower hardware"
   ]
  },
  {
   "cell_type": "code",
   "execution_count": null,
   "metadata": {},
   "outputs": [],
   "source": [
    "# selfloops version\n",
    "fig, ax = plt.subplots(figsize=(15, 9))\n",
    "ax.axis(\"off\")\n",
    "plot_options = {\"node_size\": 10, \"with_labels\": False, \"width\": 0.15}\n",
    "nx.draw_networkx(G, pos=pos, ax=ax, **plot_options)\n",
    "g = G.copy()"
   ]
  },
  {
   "cell_type": "code",
   "execution_count": null,
   "metadata": {},
   "outputs": [],
   "source": [
    "\n",
    "# no selfloops version\n",
    "G.remove_edges_from(nx.selfloop_edges(G))\n",
    "fig, ax = plt.subplots(figsize=(15, 9))\n",
    "ax.axis(\"off\")\n",
    "plot_options = {\"node_size\": 10, \"with_labels\": False, \"width\": 0.15}\n",
    "nx.draw_networkx(G, pos=pos, ax=ax, **plot_options)"
   ]
  },
  {
   "attachments": {},
   "cell_type": "markdown",
   "metadata": {},
   "source": [
    "# Basic topological attributes"
   ]
  },
  {
   "cell_type": "code",
   "execution_count": null,
   "metadata": {},
   "outputs": [],
   "source": [
    "def measure(G):\n",
    "    print(f\"Number of nodes: {G.number_of_nodes()}\")\n",
    "    print(f\"Number of edges: {G.number_of_edges()}\")\n",
    "    print(f\"Density:{nx.density(G)}\")\n",
    "    print(f\"Transitivity: {nx.transitivity(G)}\")\n",
    "    print(f\"Average Clustering: {nx.average_clustering(G)}\")\n",
    "    print(f\"Max Degree: {max(dict(G.degree()).values())}\")\n",
    "    print(f\"Min Degree: {min(dict(G.degree()).values())}\")\n",
    "    print(f\"Average Degree: {np.mean(list(dict(G.degree()).values()))}\")\n",
    "    print(f\"Number of components:{nx.number_connected_components(G)}\")\n",
    "    print(f\"Assortativity: {nx.degree_assortativity_coefficient(G)}\")\n",
    "\n",
    "    if(nx.is_connected(G)):\n",
    "        print(\"Graph is connected\")\n",
    "        print(f\"Diameter:{nx.diameter(G)}\")\n",
    "    else:\n",
    "        print(\"Graph is not connected\")\n"
   ]
  },
  {
   "cell_type": "code",
   "execution_count": null,
   "metadata": {},
   "outputs": [],
   "source": [
    "measure(G)"
   ]
  },
  {
   "cell_type": "code",
   "execution_count": null,
   "metadata": {},
   "outputs": [],
   "source": [
    "betwenness_centrality = nx.betweenness_centrality(G)\n",
    "closeness_centrality = nx.closeness_centrality(G)\n",
    "degree_centrality = nx.degree_centrality(G)\n",
    "\n",
    "plt.figure(figsize=(15,5))\n",
    "plt.subplot(131)\n",
    "plt.title(\"Betweenness distribution\")\n",
    "plt.hist(betwenness_centrality.values(), bins=100, log=True)\n",
    "\n",
    "plt.subplot(132)\n",
    "plt.title(\"Closeness distribution\")\n",
    "plt.hist(closeness_centrality.values(), bins=100)\n",
    "\n",
    "plt.subplot(133)\n",
    "plt.title(\"Degree centrality distribution\")\n",
    "plt.hist(degree_centrality.values())#, bins=100)\n",
    "\n",
    "plt.show()"
   ]
  },
  {
   "cell_type": "code",
   "execution_count": null,
   "metadata": {},
   "outputs": [],
   "source": [
    "shortest_path_lengths = dict(nx.all_pairs_shortest_path_length(G))\n",
    "\n",
    "# Find the maximum index of all nodes in the graph\n",
    "max_index = max(G.nodes())\n",
    "\n",
    "# Create an array to store values from 0 up to (and including) the maximum shortest path length\n",
    "path_lengths = np.zeros(max_index + 1, dtype=int)\n",
    "\n",
    "# Extract the frequency of shortest path lengths between two nodes\n",
    "for pls in shortest_path_lengths.values():\n",
    "    pl, cnts = np.unique(list(pls.values()), return_counts=True)\n",
    "    path_lengths[pl] += cnts\n",
    "\n",
    "# Express frequency distribution as a percentage (ignoring path lengths of 0)\n",
    "freq_percent = 100 * path_lengths[1:] / path_lengths[1:].sum()\n",
    "\n",
    "# Plot the frequency distribution (ignoring path lengths of 0) as a percentage\n",
    "fig, ax = plt.subplots(figsize=(4, 3))\n",
    "ax.bar(np.arange(1, max_index + 1), height=freq_percent)\n",
    "ax.set_title(\n",
    "    \"Distribution of shortest path length in G\", loc=\"center\"\n",
    ")\n",
    "ax.set_xlabel(\"Shortest Path Length\")\n",
    "ax.set_ylabel(\"Frequency (%)\")"
   ]
  },
  {
   "attachments": {},
   "cell_type": "markdown",
   "metadata": {},
   "source": [
    "# Clustering Coeficient Histogram"
   ]
  },
  {
   "cell_type": "code",
   "execution_count": null,
   "metadata": {},
   "outputs": [],
   "source": [
    "plt.figure(figsize=(4, 3))\n",
    "plt.hist(nx.clustering(G).values(), bins=50)\n",
    "plt.title(\"Clustering Coefficient Histogram \", loc=\"center\")\n",
    "plt.xlabel(\"Clustering Coefficient\")\n",
    "plt.ylabel(\"Counts\")"
   ]
  },
  {
   "cell_type": "code",
   "execution_count": null,
   "metadata": {},
   "outputs": [],
   "source": [
    "#number of unique triangle in the network\n",
    "triangles_per_node = list(nx.triangles(G).values())\n",
    "sum(\n",
    "    triangles_per_node\n",
    ") / 3  # divide by 3 because each triangle is counted once for each node"
   ]
  },
  {
   "cell_type": "code",
   "execution_count": null,
   "metadata": {},
   "outputs": [],
   "source": [
    "#average number of triangles \n",
    "np.mean(triangles_per_node)\n"
   ]
  },
  {
   "attachments": {},
   "cell_type": "markdown",
   "metadata": {},
   "source": [
    "# Bridges"
   ]
  },
  {
   "cell_type": "code",
   "execution_count": null,
   "metadata": {},
   "outputs": [],
   "source": [
    "nx.has_bridges(G)\n"
   ]
  },
  {
   "cell_type": "code",
   "execution_count": null,
   "metadata": {},
   "outputs": [],
   "source": [
    "bridges = list(nx.bridges(G))\n",
    "len(bridges)"
   ]
  },
  {
   "cell_type": "code",
   "execution_count": null,
   "metadata": {},
   "outputs": [],
   "source": [
    "local_bridges = list(nx.local_bridges(G, with_span=False))\n",
    "len(local_bridges)"
   ]
  },
  {
   "cell_type": "code",
   "execution_count": null,
   "metadata": {},
   "outputs": [],
   "source": [
    "plt.figure(figsize=(15, 8))\n",
    "nx.draw_networkx(G, pos=pos, node_size=10, with_labels=False, width=0.15)\n",
    "nx.draw_networkx_edges(\n",
    "    G, pos, edgelist=local_bridges, width=0.5, edge_color=\"lawngreen\"\n",
    ")  # green color for local bridges\n",
    "nx.draw_networkx_edges(\n",
    "    G, pos, edgelist=bridges, width=0.5, edge_color=\"r\"\n",
    ")  # red color for bridges\n",
    "plt.axis(\"off\")"
   ]
  },
  {
   "attachments": {},
   "cell_type": "markdown",
   "metadata": {},
   "source": [
    "# Communities"
   ]
  },
  {
   "cell_type": "code",
   "execution_count": null,
   "metadata": {},
   "outputs": [],
   "source": [
    "partition = community_louvain.best_partition(G)\n",
    "# assign a unique color to each community\n",
    "colors = [partition[n] for n in G.nodes()]"
   ]
  },
  {
   "cell_type": "code",
   "execution_count": null,
   "metadata": {},
   "outputs": [],
   "source": [
    "pos = nx.spring_layout(G)\n",
    "plt.figure(figsize=(15, 8))\n",
    "# draw the graph with nodes colored by community\n",
    "nx.draw_networkx_nodes(G, pos, node_color=colors, cmap=plt.cm.Set1, node_size=10)\n",
    "nx.draw_networkx_edges(G, pos)\n"
   ]
  },
  {
   "cell_type": "code",
   "execution_count": null,
   "metadata": {},
   "outputs": [],
   "source": [
    "# print number of comm\n",
    "print(f\"Number of communities: {len(set(partition.values()))}\")"
   ]
  },
  {
   "cell_type": "code",
   "execution_count": null,
   "metadata": {},
   "outputs": [],
   "source": [
    "degree_sequence = sorted((d for n, d in G.degree()), reverse=True)\n",
    "dmax = max(degree_sequence)\n",
    "plt.bar(*np.unique(degree_sequence, return_counts=True))\n",
    "#average degree vicino  alla mediana: 7 -> non è scale free\n",
    "\n",
    "fig.tight_layout()\n",
    "plt.show()"
   ]
  },
  {
   "attachments": {},
   "cell_type": "markdown",
   "metadata": {},
   "source": [
    "## Generating random graph"
   ]
  },
  {
   "cell_type": "code",
   "execution_count": null,
   "metadata": {},
   "outputs": [],
   "source": [
    "num_nodes = G.number_of_nodes()\n",
    "num_edges = G.number_of_edges()\n",
    "print(f\"Number of nodes: {num_nodes}\")\n",
    "print(f\"Number of edges: {num_edges}\")\n",
    "RG = nx.gnm_random_graph(num_nodes, num_edges)"
   ]
  },
  {
   "cell_type": "code",
   "execution_count": null,
   "metadata": {},
   "outputs": [],
   "source": [
    "fig, ax = plt.subplots(figsize=(15, 9))\n",
    "ax.axis(\"off\")\n",
    "plot_options = {\"node_size\": 10, \"with_labels\": False, \"width\": 0.15}\n",
    "nx.draw_networkx(RG, pos=nx.spring_layout(RG), ax=ax, **plot_options)"
   ]
  },
  {
   "attachments": {},
   "cell_type": "markdown",
   "metadata": {},
   "source": [
    "We just Analize the Biggest component"
   ]
  },
  {
   "cell_type": "code",
   "execution_count": null,
   "metadata": {},
   "outputs": [],
   "source": [
    "largest_comp = max(nx.connected_components(RG), key=len)\n",
    "RGL = RG.subgraph(largest_comp)\n",
    "nx.draw(RGL, node_size=10)"
   ]
  },
  {
   "attachments": {},
   "cell_type": "markdown",
   "metadata": {},
   "source": [
    "compute measures"
   ]
  },
  {
   "cell_type": "code",
   "execution_count": null,
   "metadata": {},
   "outputs": [],
   "source": [
    "measure(RGL)"
   ]
  },
  {
   "attachments": {},
   "cell_type": "markdown",
   "metadata": {},
   "source": [
    "Average Degree Distribution"
   ]
  },
  {
   "cell_type": "code",
   "execution_count": null,
   "metadata": {},
   "outputs": [],
   "source": [
    "degree_sequence = sorted((d for n, d in RGL.degree()), reverse=True)\n",
    "dmax = max(degree_sequence)\n",
    "plt.bar(*np.unique(degree_sequence, return_counts=True))\n",
    "#average degree vicino  alla mediana: 7 -> non è scale free\n",
    "\n",
    "fig.tight_layout()\n",
    "plt.show()"
   ]
  },
  {
   "attachments": {},
   "cell_type": "markdown",
   "metadata": {},
   "source": [
    "Betwenness,Closeness and Degree Centrality"
   ]
  },
  {
   "cell_type": "code",
   "execution_count": null,
   "metadata": {},
   "outputs": [],
   "source": [
    "betwenness_centrality = nx.betweenness_centrality(RGL)\n",
    "closeness_centrality = nx.closeness_centrality(RGL)\n",
    "degree_centrality = nx.degree_centrality(RGL)\n",
    "\n",
    "plt.figure(figsize=(15,5))\n",
    "plt.subplot(131)\n",
    "plt.title(\"Betweenness distribution\")\n",
    "plt.hist(betwenness_centrality.values(), bins=100, log=True)\n",
    "\n",
    "plt.subplot(132)\n",
    "plt.title(\"Closeness distribution\")\n",
    "plt.hist(closeness_centrality.values(), bins=100)\n",
    "\n",
    "plt.subplot(133)\n",
    "plt.title(\"Degree centrality distribution\")\n",
    "plt.hist(degree_centrality.values())#, bins=100)\n",
    "\n",
    "plt.show()"
   ]
  },
  {
   "attachments": {},
   "cell_type": "markdown",
   "metadata": {},
   "source": [
    "# Random Graph Communities"
   ]
  },
  {
   "cell_type": "code",
   "execution_count": null,
   "metadata": {},
   "outputs": [],
   "source": [
    "partition = community_louvain.best_partition(RGL)\n",
    "# assign a unique color to each community\n",
    "colors = [partition[n] for n in RGL.nodes()]"
   ]
  },
  {
   "cell_type": "code",
   "execution_count": null,
   "metadata": {},
   "outputs": [],
   "source": [
    "pos = nx.spring_layout(RGL)\n",
    "plt.figure(figsize=(15, 8))\n",
    "# draw the graph with nodes colored by community\n",
    "nx.draw_networkx_nodes(RGL, pos, node_color=colors, cmap=plt.cm.Set1, node_size=10)\n",
    "nx.draw_networkx_edges(RGL, pos)\n"
   ]
  },
  {
   "cell_type": "code",
   "execution_count": null,
   "metadata": {},
   "outputs": [],
   "source": [
    "# print number of comm\n",
    "print(f\"Number of communities: {len(set(partition.values()))}\")"
   ]
  },
  {
   "attachments": {},
   "cell_type": "markdown",
   "metadata": {},
   "source": [
    "# Bridges"
   ]
  },
  {
   "cell_type": "code",
   "execution_count": null,
   "metadata": {},
   "outputs": [],
   "source": [
    "nx.has_bridges(RGL)\n"
   ]
  },
  {
   "cell_type": "code",
   "execution_count": null,
   "metadata": {},
   "outputs": [],
   "source": [
    "bridges = list(nx.bridges(RGL))\n",
    "len(bridges)"
   ]
  },
  {
   "cell_type": "code",
   "execution_count": null,
   "metadata": {},
   "outputs": [],
   "source": [
    "local_bridges = list(nx.local_bridges(RGL, with_span=False))\n",
    "len(local_bridges)"
   ]
  },
  {
   "cell_type": "code",
   "execution_count": null,
   "metadata": {},
   "outputs": [],
   "source": [
    "plt.figure(figsize=(15, 8))\n",
    "nx.draw_networkx(RGL, pos=pos, node_size=10, with_labels=False, width=0.15)\n",
    "nx.draw_networkx_edges(\n",
    "    G, pos, edgelist=local_bridges, width=0.5, edge_color=\"lawngreen\"\n",
    ")  # green color for local bridges\n",
    "nx.draw_networkx_edges(\n",
    "    G, pos, edgelist=bridges, width=0.5, edge_color=\"r\"\n",
    ")  # red color for bridges\n",
    "plt.axis(\"off\")"
   ]
  }
 ],
 "metadata": {
  "kernelspec": {
   "display_name": "Python 3",
   "language": "python",
   "name": "python3"
  },
  "language_info": {
   "codemirror_mode": {
    "name": "ipython",
    "version": 3
   },
   "file_extension": ".py",
   "mimetype": "text/x-python",
   "name": "python",
   "nbconvert_exporter": "python",
   "pygments_lexer": "ipython3",
   "version": "3.10.10"
  },
  "orig_nbformat": 4
 },
 "nbformat": 4,
 "nbformat_minor": 2
}
