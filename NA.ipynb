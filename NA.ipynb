{
 "cells": [
  {
   "attachments": {},
   "cell_type": "markdown",
   "metadata": {},
   "source": [
    "# Import Lib"
   ]
  },
  {
   "cell_type": "code",
   "execution_count": 7,
   "metadata": {},
   "outputs": [],
   "source": [
    "%matplotlib inline\n",
    "import pandas as pd\n",
    "import numpy as np\n",
    "import networkx as nx\n",
    "import matplotlib.pyplot as plt\n",
    "from random import randint\n",
    "from scipy.io import mmread\n"
   ]
  },
  {
   "attachments": {},
   "cell_type": "markdown",
   "metadata": {},
   "source": [
    "# Import Graph"
   ]
  },
  {
   "cell_type": "code",
   "execution_count": 8,
   "metadata": {},
   "outputs": [
    {
     "ename": "ValueError",
     "evalue": "not enough values to unpack (expected 5, got 3)",
     "output_type": "error",
     "traceback": [
      "\u001b[0;31m---------------------------------------------------------------------------\u001b[0m",
      "\u001b[0;31mValueError\u001b[0m                                Traceback (most recent call last)",
      "Cell \u001b[0;32mIn[8], line 1\u001b[0m\n\u001b[0;32m----> 1\u001b[0m read_file \u001b[39m=\u001b[39m mmread(\u001b[39m'\u001b[39;49m\u001b[39mweb-edu.mtx\u001b[39;49m\u001b[39m'\u001b[39;49m)\n\u001b[1;32m      2\u001b[0m G \u001b[39m=\u001b[39m nx\u001b[39m.\u001b[39mGraph(read_file)\n",
      "File \u001b[0;32m/Library/Frameworks/Python.framework/Versions/3.10/lib/python3.10/site-packages/scipy/io/_mmio.py:129\u001b[0m, in \u001b[0;36mmmread\u001b[0;34m(source)\u001b[0m\n\u001b[1;32m     84\u001b[0m \u001b[39mdef\u001b[39;00m \u001b[39mmmread\u001b[39m(source):\n\u001b[1;32m     85\u001b[0m \u001b[39m    \u001b[39m\u001b[39m\"\"\"\u001b[39;00m\n\u001b[1;32m     86\u001b[0m \u001b[39m    Reads the contents of a Matrix Market file-like 'source' into a matrix.\u001b[39;00m\n\u001b[1;32m     87\u001b[0m \n\u001b[0;32m   (...)\u001b[0m\n\u001b[1;32m    127\u001b[0m \u001b[39m           [0., 0., 0., 0., 0.]])\u001b[39;00m\n\u001b[1;32m    128\u001b[0m \u001b[39m    \"\"\"\u001b[39;00m\n\u001b[0;32m--> 129\u001b[0m     \u001b[39mreturn\u001b[39;00m MMFile()\u001b[39m.\u001b[39;49mread(source)\n",
      "File \u001b[0;32m/Library/Frameworks/Python.framework/Versions/3.10/lib/python3.10/site-packages/scipy/io/_mmio.py:578\u001b[0m, in \u001b[0;36mMMFile.read\u001b[0;34m(self, source)\u001b[0m\n\u001b[1;32m    575\u001b[0m stream, close_it \u001b[39m=\u001b[39m \u001b[39mself\u001b[39m\u001b[39m.\u001b[39m_open(source)\n\u001b[1;32m    577\u001b[0m \u001b[39mtry\u001b[39;00m:\n\u001b[0;32m--> 578\u001b[0m     \u001b[39mself\u001b[39;49m\u001b[39m.\u001b[39;49m_parse_header(stream)\n\u001b[1;32m    579\u001b[0m     \u001b[39mreturn\u001b[39;00m \u001b[39mself\u001b[39m\u001b[39m.\u001b[39m_parse_body(stream)\n\u001b[1;32m    581\u001b[0m \u001b[39mfinally\u001b[39;00m:\n",
      "File \u001b[0;32m/Library/Frameworks/Python.framework/Versions/3.10/lib/python3.10/site-packages/scipy/io/_mmio.py:642\u001b[0m, in \u001b[0;36mMMFile._parse_header\u001b[0;34m(self, stream)\u001b[0m\n\u001b[1;32m    640\u001b[0m \u001b[39mdef\u001b[39;00m \u001b[39m_parse_header\u001b[39m(\u001b[39mself\u001b[39m, stream):\n\u001b[1;32m    641\u001b[0m     rows, cols, entries, \u001b[39mformat\u001b[39m, field, symmetry \u001b[39m=\u001b[39m \\\n\u001b[0;32m--> 642\u001b[0m         \u001b[39mself\u001b[39;49m\u001b[39m.\u001b[39;49m\u001b[39m__class__\u001b[39;49m\u001b[39m.\u001b[39;49minfo(stream)\n\u001b[1;32m    643\u001b[0m     \u001b[39mself\u001b[39m\u001b[39m.\u001b[39m_init_attrs(rows\u001b[39m=\u001b[39mrows, cols\u001b[39m=\u001b[39mcols, entries\u001b[39m=\u001b[39mentries, \u001b[39mformat\u001b[39m\u001b[39m=\u001b[39m\u001b[39mformat\u001b[39m,\n\u001b[1;32m    644\u001b[0m                      field\u001b[39m=\u001b[39mfield, symmetry\u001b[39m=\u001b[39msymmetry)\n",
      "File \u001b[0;32m/Library/Frameworks/Python.framework/Versions/3.10/lib/python3.10/site-packages/scipy/io/_mmio.py:374\u001b[0m, in \u001b[0;36mMMFile.info\u001b[0;34m(self, source)\u001b[0m\n\u001b[1;32m    370\u001b[0m \u001b[39mtry\u001b[39;00m:\n\u001b[1;32m    371\u001b[0m \n\u001b[1;32m    372\u001b[0m     \u001b[39m# read and validate header line\u001b[39;00m\n\u001b[1;32m    373\u001b[0m     line \u001b[39m=\u001b[39m stream\u001b[39m.\u001b[39mreadline()\n\u001b[0;32m--> 374\u001b[0m     mmid, matrix, \u001b[39mformat\u001b[39m, field, symmetry \u001b[39m=\u001b[39m \\\n\u001b[1;32m    375\u001b[0m         [asstr(part\u001b[39m.\u001b[39mstrip()) \u001b[39mfor\u001b[39;00m part \u001b[39min\u001b[39;00m line\u001b[39m.\u001b[39msplit()]\n\u001b[1;32m    376\u001b[0m     \u001b[39mif\u001b[39;00m \u001b[39mnot\u001b[39;00m mmid\u001b[39m.\u001b[39mstartswith(\u001b[39m'\u001b[39m\u001b[39m%%\u001b[39;00m\u001b[39mMatrixMarket\u001b[39m\u001b[39m'\u001b[39m):\n\u001b[1;32m    377\u001b[0m         \u001b[39mraise\u001b[39;00m \u001b[39mValueError\u001b[39;00m(\u001b[39m'\u001b[39m\u001b[39msource is not in Matrix Market format\u001b[39m\u001b[39m'\u001b[39m)\n",
      "\u001b[0;31mValueError\u001b[0m: not enough values to unpack (expected 5, got 3)"
     ]
    }
   ],
   "source": [
    "\n",
    "read_file = mmread('web-edu.mtx')\n",
    "G = nx.Graph(read_file)"
   ]
  },
  {
   "attachments": {},
   "cell_type": "markdown",
   "metadata": {},
   "source": [
    "Try new visualization"
   ]
  },
  {
   "cell_type": "code",
   "execution_count": null,
   "metadata": {},
   "outputs": [],
   "source": [
    "pos = nx.spring_layout(G, iterations=15, seed=1721)\n",
    "fig, ax = plt.subplots(figsize=(15, 9))\n",
    "ax.axis(\"off\")\n",
    "plot_options = {\"node_size\": 10, \"with_labels\": False, \"width\": 0.15}\n",
    "\n",
    "nx.draw_networkx(G, pos=pos, ax=ax, **plot_options)"
   ]
  },
  {
   "attachments": {},
   "cell_type": "markdown",
   "metadata": {},
   "source": [
    "# Basic topological attributes"
   ]
  },
  {
   "cell_type": "code",
   "execution_count": null,
   "metadata": {},
   "outputs": [],
   "source": [
    "def measure(G):\n",
    "    print(f\"Number of nodes: {G.number_of_nodes()}\")\n",
    "    print(f\"Number of edges: {G.number_of_edges()}\")\n",
    "    print(f\"Density:{nx.density(G)}\")\n",
    "    print(f\"Transitivity: {nx.transitivity(G)}\")\n",
    "    print(f\"Average Clustering: {nx.average_clustering(G)}\")\n",
    "    print(f\"Max Degree: {max(dict(G.degree()).values())}\")\n",
    "    print(f\"Min Degree: {min(dict(G.degree()).values())}\")\n",
    "    print(f\"Average Degree: {np.mean(list(dict(G.degree()).values()))}\")\n",
    "    print(f\"Number of components:{nx.number_connected_components(G)}\")\n",
    "    print(f\"Assortativity: {nx.degree_assortativity_coefficient(G)}\")\n",
    "\n",
    "    if(nx.is_connected(G)):\n",
    "        print(\"Graph is connected\")\n",
    "        print(f\"Diameter:{nx.diameter(G)}\")\n",
    "    else:\n",
    "        print(\"Graph is not connected\")\n"
   ]
  },
  {
   "cell_type": "code",
   "execution_count": null,
   "metadata": {},
   "outputs": [],
   "source": [
    "measure(G)"
   ]
  },
  {
   "cell_type": "code",
   "execution_count": null,
   "metadata": {},
   "outputs": [],
   "source": [
    "betwenness_centrality = nx.betweenness_centrality(G)\n",
    "closeness_centrality = nx.closeness_centrality(G)\n",
    "degree_centrality = nx.degree_centrality(G)\n",
    "\n",
    "plt.figure(figsize=(15,5))\n",
    "plt.subplot(131)\n",
    "plt.title(\"Betweenness distribution\")\n",
    "plt.hist(betwenness_centrality.values(), bins=100)\n",
    "plt.subplot(132)\n",
    "plt.title(\"Closeness distribution\")\n",
    "plt.hist(closeness_centrality.values(), bins=100)\n",
    "plt.subplot(133)\n",
    "plt.title(\"Degree centrality distribution\")\n",
    "plt.hist(degree_centrality.values(), bins=100)\n",
    "plt.show()"
   ]
  },
  {
   "cell_type": "code",
   "execution_count": null,
   "metadata": {},
   "outputs": [],
   "source": [
    "shortest_path_lengths = dict(nx.all_pairs_shortest_path_length(G))\n",
    "\n",
    "# Find the maximum index of all nodes in the graph\n",
    "max_index = max(G.nodes())\n",
    "\n",
    "# Create an array to store values from 0 up to (and including) the maximum shortest path length\n",
    "path_lengths = np.zeros(max_index + 1, dtype=int)\n",
    "\n",
    "# Extract the frequency of shortest path lengths between two nodes\n",
    "for pls in shortest_path_lengths.values():\n",
    "    pl, cnts = np.unique(list(pls.values()), return_counts=True)\n",
    "    path_lengths[pl] += cnts\n",
    "\n",
    "# Express frequency distribution as a percentage (ignoring path lengths of 0)\n",
    "freq_percent = 100 * path_lengths[1:] / path_lengths[1:].sum()\n",
    "\n",
    "# Plot the frequency distribution (ignoring path lengths of 0) as a percentage\n",
    "fig, ax = plt.subplots(figsize=(4, 3))\n",
    "ax.bar(np.arange(1, max_index + 1), height=freq_percent)\n",
    "ax.set_title(\n",
    "    \"Distribution of shortest path length in G\", loc=\"center\"\n",
    ")\n",
    "ax.set_xlabel(\"Shortest Path Length\")\n",
    "ax.set_ylabel(\"Frequency (%)\")"
   ]
  },
  {
   "attachments": {},
   "cell_type": "markdown",
   "metadata": {},
   "source": [
    "# Clustering Coeficient Histogram"
   ]
  },
  {
   "cell_type": "code",
   "execution_count": null,
   "metadata": {},
   "outputs": [],
   "source": [
    "plt.figure(figsize=(4, 3))\n",
    "plt.hist(nx.clustering(G).values(), bins=50)\n",
    "plt.title(\"Clustering Coefficient Histogram \", loc=\"center\")\n",
    "plt.xlabel(\"Clustering Coefficient\")\n",
    "plt.ylabel(\"Counts\")"
   ]
  },
  {
   "cell_type": "code",
   "execution_count": null,
   "metadata": {},
   "outputs": [],
   "source": [
    "#number of unique triangle in the network\n",
    "triangles_per_node = list(nx.triangles(G).values())\n",
    "sum(\n",
    "    triangles_per_node\n",
    ") / 3  # divide by 3 because each triangle is counted once for each node"
   ]
  },
  {
   "cell_type": "code",
   "execution_count": null,
   "metadata": {},
   "outputs": [],
   "source": [
    "#average number of triangles \n",
    "np.mean(triangles_per_node)\n"
   ]
  },
  {
   "attachments": {},
   "cell_type": "markdown",
   "metadata": {},
   "source": [
    "# Bridges"
   ]
  },
  {
   "cell_type": "code",
   "execution_count": null,
   "metadata": {},
   "outputs": [],
   "source": [
    "nx.has_bridges(G)\n"
   ]
  },
  {
   "cell_type": "code",
   "execution_count": null,
   "metadata": {},
   "outputs": [],
   "source": [
    "bridges = list(nx.bridges(G))\n",
    "len(bridges)"
   ]
  },
  {
   "cell_type": "code",
   "execution_count": null,
   "metadata": {},
   "outputs": [],
   "source": [
    "local_bridges = list(nx.local_bridges(G, with_span=False))\n",
    "len(local_bridges)"
   ]
  },
  {
   "cell_type": "code",
   "execution_count": null,
   "metadata": {},
   "outputs": [],
   "source": [
    "plt.figure(figsize=(15, 8))\n",
    "nx.draw_networkx(G, pos=pos, node_size=10, with_labels=False, width=0.15)\n",
    "nx.draw_networkx_edges(\n",
    "    G, pos, edgelist=local_bridges, width=0.5, edge_color=\"lawngreen\"\n",
    ")  # green color for local bridges\n",
    "nx.draw_networkx_edges(\n",
    "    G, pos, edgelist=bridges, width=0.5, edge_color=\"r\"\n",
    ")  # red color for bridges\n",
    "plt.axis(\"off\")"
   ]
  },
  {
   "attachments": {},
   "cell_type": "markdown",
   "metadata": {},
   "source": [
    "# Communities"
   ]
  },
  {
   "cell_type": "code",
   "execution_count": null,
   "metadata": {},
   "outputs": [],
   "source": [
    "colors = [\"\" for x in range(G.number_of_nodes())]  # initialize colors list\n",
    "counter = 0\n",
    "for com in nx.community.label_propagation_communities(G):\n",
    "    color = \"#%06X\" % randint(0, 0xFFFFFF)  # creates random RGB color\n",
    "    counter += 1\n",
    "    for node in list(\n",
    "        com\n",
    "    ):  # fill colors list with the particular color for the community nodes\n",
    "        colors[node] = color\n",
    "print(f\"Number of Communities:{counter}\")"
   ]
  },
  {
   "cell_type": "code",
   "execution_count": null,
   "metadata": {},
   "outputs": [],
   "source": [
    "plt.figure(figsize=(15, 9))\n",
    "plt.axis(\"off\")\n",
    "nx.draw_networkx(\n",
    "    G, pos=pos, node_size=10, with_labels=False, width=0.15, node_color=colors\n",
    ")"
   ]
  },
  {
   "cell_type": "code",
   "execution_count": null,
   "metadata": {},
   "outputs": [],
   "source": [
    "# only 10 communities\n",
    "colors = [\"\" for x in range(G.number_of_nodes())]\n",
    "for com in nx.community.asyn_fluidc(G, 10, seed=0):\n",
    "    color = \"#%06X\" % randint(0, 0xFFFFFF)  # creates random RGB color\n",
    "    for node in list(com):\n",
    "        colors[node] = color\n",
    "plt.figure(figsize=(15, 9))\n",
    "plt.axis(\"off\")\n",
    "nx.draw_networkx(\n",
    "    G, pos=pos, node_size=10, with_labels=False, width=0.15, node_color=colors\n",
    ")"
   ]
  }
 ],
 "metadata": {
  "kernelspec": {
   "display_name": "Python 3",
   "language": "python",
   "name": "python3"
  },
  "language_info": {
   "codemirror_mode": {
    "name": "ipython",
    "version": 3
   },
   "file_extension": ".py",
   "mimetype": "text/x-python",
   "name": "python",
   "nbconvert_exporter": "python",
   "pygments_lexer": "ipython3",
   "version": "3.10.2"
  },
  "orig_nbformat": 4
 },
 "nbformat": 4,
 "nbformat_minor": 2
}
