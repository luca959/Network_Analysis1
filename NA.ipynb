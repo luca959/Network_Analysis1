{
 "cells": [
  {
   "attachments": {},
   "cell_type": "markdown",
   "metadata": {},
   "source": [
    "# Import Lib"
   ]
  },
  {
   "cell_type": "code",
   "execution_count": null,
   "metadata": {},
   "outputs": [],
   "source": [
    "%matplotlib inline\n",
    "import pandas as pd\n",
    "import numpy as np\n",
    "import networkx as nx\n",
    "import matplotlib.pyplot as plt\n",
    "from random import randint\n",
    "from scipy.io import mmread\n",
    "from community import community_louvain"
   ]
  },
  {
   "attachments": {},
   "cell_type": "markdown",
   "metadata": {},
   "source": [
    "# Import Graph"
   ]
  },
  {
   "cell_type": "code",
   "execution_count": null,
   "metadata": {},
   "outputs": [],
   "source": [
    "\n",
    "read_file = mmread('power-bcspwr10.mtx')\n",
    "G_init = nx.Graph(read_file)"
   ]
  },
  {
   "attachments": {},
   "cell_type": "markdown",
   "metadata": {},
   "source": [
    "Try new visualization"
   ]
  },
  {
   "cell_type": "code",
   "execution_count": null,
   "metadata": {},
   "outputs": [],
   "source": [
    "# Setting position of nodes for multiple visualizations\n",
    "pos = nx.spring_layout(G_init, iterations=500, seed=1337) # Change iterations on slower hardware"
   ]
  },
  {
   "cell_type": "code",
   "execution_count": null,
   "metadata": {},
   "outputs": [],
   "source": [
    "# selfloops version\n",
    "fig, ax = plt.subplots(figsize=(15, 9))\n",
    "ax.axis(\"off\")\n",
    "plot_options = {\"node_size\": 10, \"with_labels\": False, \"width\": 0.15}\n",
    "nx.draw_networkx(G_init, pos=pos, ax=ax, **plot_options)\n",
    "G = G_init.copy()"
   ]
  },
  {
   "cell_type": "code",
   "execution_count": null,
   "metadata": {},
   "outputs": [],
   "source": [
    "\n",
    "# no selfloops version\n",
    "G.remove_edges_from(nx.selfloop_edges(G))\n",
    "fig, ax = plt.subplots(figsize=(15, 9))\n",
    "ax.axis(\"off\")\n",
    "plot_options = {\"node_size\": 10, \"with_labels\": False, \"width\": 0.15}\n",
    "nx.draw_networkx(G, pos=pos, ax=ax, **plot_options)"
   ]
  },
  {
   "attachments": {},
   "cell_type": "markdown",
   "metadata": {},
   "source": [
    "# Basic topological attributes"
   ]
  },
  {
   "cell_type": "code",
   "execution_count": null,
   "metadata": {},
   "outputs": [],
   "source": [
    "def measure(G):\n",
    "    print(f\"Number of nodes: {G.number_of_nodes()}\")\n",
    "    print(f\"Number of edges: {G.number_of_edges()}\")\n",
    "    print(f\"Density: {nx.density(G)}\")\n",
    "    print(f\"Transitivity: {nx.transitivity(G)}\")\n",
    "    print(f\"Average Clustering: {nx.average_clustering(G)}\")\n",
    "    print(f\"Max Degree: {max(dict(G.degree()).values())}\")\n",
    "    print(f\"Min Degree: {min(dict(G.degree()).values())}\")\n",
    "    print(f\"Average Degree: {np.mean(list(dict(G.degree()).values()))}\")\n",
    "    print(f\"Number of components:{nx.number_connected_components(G)}\")\n",
    "    print(f\"Assortativity: {nx.degree_assortativity_coefficient(G)}\")\n",
    "\n",
    "    if(nx.is_connected(G)):\n",
    "        print(\"Graph is connected\")\n",
    "        print(f\"Diameter: {nx.diameter(G)}\")\n",
    "    else:\n",
    "        print(\"Graph is not connected\")"
   ]
  },
  {
   "cell_type": "code",
   "execution_count": null,
   "metadata": {},
   "outputs": [],
   "source": [
    "measure(G)"
   ]
  },
  {
   "cell_type": "code",
   "execution_count": null,
   "metadata": {},
   "outputs": [],
   "source": [
    "betwenness_centrality = nx.betweenness_centrality(G)\n",
    "closeness_centrality = nx.closeness_centrality(G)\n",
    "degree_centrality = nx.degree_centrality(G)"
   ]
  },
  {
   "cell_type": "code",
   "execution_count": null,
   "metadata": {},
   "outputs": [],
   "source": [
    "plt.figure(figsize=(15,5))\n",
    "plt.subplot(131)\n",
    "plt.title(\"Betweenness distribution\")\n",
    "plt.hist(betwenness_centrality.values(), bins=100, log=True)\n",
    "\n",
    "plt.subplot(132)\n",
    "plt.title(\"Closeness distribution\")\n",
    "plt.hist(closeness_centrality.values(), bins=100)\n",
    "\n",
    "plt.subplot(133)\n",
    "plt.title(\"Degree centrality distribution\")\n",
    "plt.hist(degree_centrality.values())\n",
    "\n",
    "plt.show()"
   ]
  },
  {
   "cell_type": "code",
   "execution_count": null,
   "metadata": {},
   "outputs": [],
   "source": [
    "print(f\"Betweenness centrality max:{max(betwenness_centrality.values())}\")\n",
    "print(f\"Closeness centrality max:{max(closeness_centrality.values())}\")\n",
    "print(f\"Degree centrality max:{max(degree_centrality.values())}\")"
   ]
  },
  {
   "cell_type": "code",
   "execution_count": null,
   "metadata": {},
   "outputs": [],
   "source": [
    "#number of unique triangle in the network\n",
    "triangles_per_node = list(nx.triangles(G).values())\n",
    "sum(\n",
    "    triangles_per_node\n",
    ") / 3  # divide by 3 because each triangle is counted once for each node"
   ]
  },
  {
   "attachments": {},
   "cell_type": "markdown",
   "metadata": {},
   "source": [
    "# Communities"
   ]
  },
  {
   "cell_type": "code",
   "execution_count": null,
   "metadata": {},
   "outputs": [],
   "source": [
    "partition = community_louvain.best_partition(G)\n",
    "# assign a unique color to each community\n",
    "colors = [partition[n] for n in G.nodes()]"
   ]
  },
  {
   "cell_type": "code",
   "execution_count": null,
   "metadata": {},
   "outputs": [],
   "source": [
    "pos = nx.spring_layout(G, iterations=500, seed=1337)\n",
    "plt.figure(figsize=(15, 8))\n",
    "# draw the graph with nodes colored by community\n",
    "nx.draw_networkx_nodes(G, pos, node_color=colors, cmap=plt.cm.Set1, node_size=10)\n",
    "nx.draw_networkx_edges(G, pos)\n"
   ]
  },
  {
   "cell_type": "code",
   "execution_count": null,
   "metadata": {},
   "outputs": [],
   "source": [
    "# print number of comm\n",
    "print(f\"Number of communities: {len(set(partition.values()))}\")"
   ]
  },
  {
   "cell_type": "code",
   "execution_count": null,
   "metadata": {},
   "outputs": [],
   "source": [
    "degree_sequence = sorted((d for n, d in G.degree()), reverse=True)\n",
    "dmax = max(degree_sequence)\n",
    "plt.bar(*np.unique(degree_sequence, return_counts=True))\n",
    "#average degree vicino  alla mediana: 7 -> non è scale free\n",
    "\n",
    "fig.tight_layout()\n",
    "plt.title(\"Communities distribution \")\n",
    "plt.xlabel(\"Size of communities\")\n",
    "plt.ylabel(\"Counts\")\n",
    "plt.show()"
   ]
  },
  {
   "attachments": {},
   "cell_type": "markdown",
   "metadata": {},
   "source": [
    "## Generating random graph"
   ]
  },
  {
   "cell_type": "code",
   "execution_count": null,
   "metadata": {},
   "outputs": [],
   "source": [
    "num_nodes = G.number_of_nodes()\n",
    "num_edges = G.number_of_edges()\n",
    "print(f\"Number of nodes: {num_nodes}\")\n",
    "print(f\"Number of edges: {num_edges}\")\n",
    "RG = nx.gnm_random_graph(num_nodes, num_edges, seed=1337)"
   ]
  },
  {
   "cell_type": "code",
   "execution_count": null,
   "metadata": {},
   "outputs": [],
   "source": [
    "fig, ax = plt.subplots(figsize=(15, 9))\n",
    "ax.axis(\"off\")\n",
    "plot_options = {\"node_size\": 10, \"with_labels\": False, \"width\": 0.15}\n",
    "nx.draw_networkx(RG, pos=nx.spring_layout(RG, iterations=500, seed=1337), ax=ax, **plot_options)"
   ]
  },
  {
   "attachments": {},
   "cell_type": "markdown",
   "metadata": {},
   "source": [
    "We just Analize the Biggest component"
   ]
  },
  {
   "cell_type": "code",
   "execution_count": null,
   "metadata": {},
   "outputs": [],
   "source": [
    "largest_comp = max(nx.connected_components(RG), key=len)\n",
    "RGL = RG.subgraph(largest_comp)\n",
    "\n",
    "pos_random = nx.spring_layout(RGL, iterations=100, seed=1337) # Change iterations on slower hardware\n",
    "fig, ax = plt.subplots(figsize=(15, 9))\n",
    "ax.axis(\"off\")\n",
    "plot_options = {\"node_size\": 10, \"with_labels\": False, \"width\": 0.15}\n",
    "nx.draw_networkx(RGL, pos=pos_random, ax=ax, **plot_options)"
   ]
  },
  {
   "attachments": {},
   "cell_type": "markdown",
   "metadata": {},
   "source": [
    "compute measures"
   ]
  },
  {
   "cell_type": "code",
   "execution_count": null,
   "metadata": {},
   "outputs": [],
   "source": [
    "measure(RGL)"
   ]
  },
  {
   "attachments": {},
   "cell_type": "markdown",
   "metadata": {},
   "source": [
    "Average Degree Distribution"
   ]
  },
  {
   "cell_type": "code",
   "execution_count": null,
   "metadata": {},
   "outputs": [],
   "source": [
    "degree_sequence = sorted((d for n, d in RGL.degree()), reverse=True)\n",
    "dmax = max(degree_sequence)\n",
    "plt.bar(*np.unique(degree_sequence, return_counts=True))\n",
    "#average degree vicino  alla mediana: 7 -> non è scale free\n",
    "\n",
    "fig.tight_layout()\n",
    "plt.show()"
   ]
  },
  {
   "attachments": {},
   "cell_type": "markdown",
   "metadata": {},
   "source": [
    "Betwenness,Closeness and Degree Centrality"
   ]
  },
  {
   "cell_type": "code",
   "execution_count": null,
   "metadata": {},
   "outputs": [],
   "source": [
    "betwenness_centrality = nx.betweenness_centrality(RGL)\n",
    "closeness_centrality = nx.closeness_centrality(RGL)\n",
    "degree_centrality = nx.degree_centrality(RGL)"
   ]
  },
  {
   "cell_type": "code",
   "execution_count": null,
   "metadata": {},
   "outputs": [],
   "source": [
    "plt.figure(figsize=(15,5))\n",
    "plt.subplot(131)\n",
    "plt.title(\"Betweenness distribution\")\n",
    "plt.hist(betwenness_centrality.values(), bins=100, log=True)\n",
    "\n",
    "plt.subplot(132)\n",
    "plt.title(\"Closeness distribution\")\n",
    "plt.hist(closeness_centrality.values(), bins=100)\n",
    "\n",
    "plt.subplot(133)\n",
    "plt.title(\"Degree centrality distribution\")\n",
    "plt.hist(degree_centrality.values())#, bins=100)\n",
    "\n",
    "plt.show()"
   ]
  },
  {
   "cell_type": "code",
   "execution_count": null,
   "metadata": {},
   "outputs": [],
   "source": [
    "print(f\"Betweenness centrality max:{max(betwenness_centrality.values())}\")\n",
    "print(f\"Closeness centrality max:{max(closeness_centrality.values())}\")\n",
    "print(f\"Degree centrality max:{max(degree_centrality.values())}\")"
   ]
  },
  {
   "attachments": {},
   "cell_type": "markdown",
   "metadata": {},
   "source": [
    "# Random Graph Communities"
   ]
  },
  {
   "cell_type": "code",
   "execution_count": null,
   "metadata": {},
   "outputs": [],
   "source": [
    "partition = community_louvain.best_partition(RGL)\n",
    "# assign a unique color to each community\n",
    "colors = [partition[n] for n in RGL.nodes()]"
   ]
  },
  {
   "cell_type": "code",
   "execution_count": null,
   "metadata": {},
   "outputs": [],
   "source": [
    "pos = nx.spring_layout(RGL, iterations=500, seed=1337)\n",
    "plt.figure(figsize=(15, 8))\n",
    "# draw the graph with nodes colored by community\n",
    "nx.draw_networkx_nodes(RGL, pos, node_color=colors, cmap=plt.cm.Set1, node_size=10)\n",
    "nx.draw_networkx_edges(RGL, pos)\n"
   ]
  },
  {
   "cell_type": "code",
   "execution_count": null,
   "metadata": {},
   "outputs": [],
   "source": [
    "# print number of comm\n",
    "print(f\"Number of communities: {len(set(partition.values()))}\")"
   ]
  },
  {
   "attachments": {},
   "cell_type": "markdown",
   "metadata": {},
   "source": [
    "N° of triangles"
   ]
  },
  {
   "cell_type": "code",
   "execution_count": null,
   "metadata": {},
   "outputs": [],
   "source": [
    "#number of unique triangle in the network\n",
    "triangles_per_node = list(nx.triangles(RGL).values())\n",
    "sum(\n",
    "    triangles_per_node\n",
    ") / 3  # divide by 3 because each triangle is counted once for each node"
   ]
  }
 ],
 "metadata": {
  "kernelspec": {
   "display_name": "Python 3",
   "language": "python",
   "name": "python3"
  },
  "language_info": {
   "codemirror_mode": {
    "name": "ipython",
    "version": 3
   },
   "file_extension": ".py",
   "mimetype": "text/x-python",
   "name": "python",
   "nbconvert_exporter": "python",
   "pygments_lexer": "ipython3",
   "version": "3.10.2"
  },
  "orig_nbformat": 4
 },
 "nbformat": 4,
 "nbformat_minor": 2
}
